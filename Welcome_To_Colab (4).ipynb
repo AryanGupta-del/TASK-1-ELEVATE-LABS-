import pandas as pd
from sklearn.preprocessing import StandardScaler
import matplotlib.pyplot as plt
import seaborn as sns

df = pd.read_csv('/content/Titanic-Dataset.csv')
print("Shape of the dataset:", df.shape)
print("\nData types of columns:\n", df.dtypes)
print("\nFirst 5 rows of the dataset:\n", df.head())
print("\nMissing values in each column:\n", df.isnull().sum())
print("\nSummary statistics:\n", df.describe())
print(df.columns.tolist())
# Handle Age with mean
if 'Age' in df.columns:
    df['Age'] = df['Age'].fillna(df['Age'].mean())

# Handle Fare with median
if 'Fare' in df.columns:
    df['Fare'] = df['Fare'].fillna(df['Fare'].median())
# Encode 'Sex' using map
if 'Sex' in df.columns and df['Sex'].dtype == 'object':
    df['Sex'] = df['Sex'].map({'male': 0, 'female': 1})

# Identify numerical features (excluding ID-like columns)
num_cols = df.select_dtypes(include=['int64', 'float64']).columns.tolist()
# Optionally remove PassengerId or similar identifier
num_cols = [col for col in num_cols if col.lower() not in ['passengerid']]

# Apply standardization
scaler = StandardScaler()
df[num_cols] = scaler.fit_transform(df[num_cols])
# 1️⃣ Boxplot visualization
plt.figure(figsize=(15, 6))
for i, col in enumerate(num_cols, 1):
    plt.subplot(1, len(num_cols), i)
    sns.boxplot(y=df[col])
    plt.title(col)
plt.tight_layout()
plt.show()

# 2️⃣ Remove outliers using IQR
for col in num_cols:
    Q1 = df[col].quantile(0.25)
    Q3 = df[col].quantile(0.75)
    IQR = Q3 - Q1
    lower = Q1 - 1.5 * IQR
    upper = Q3 + 1.5 * IQR
    df = df[(df[col] >= lower) & (df[col] <= upper)]

# Show shape after removing outliers
print(f"Shape after outlier removal: {df.shape}")

# Show first rows
print(df.head())
